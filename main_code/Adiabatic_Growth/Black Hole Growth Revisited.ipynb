{
 "cells": [
  {
   "cell_type": "markdown",
   "metadata": {},
   "source": [
    "# Black Hole Growth Revisited\n",
    "\n",
    "## 1. The Plummer Sphere\n",
    "\n",
    "Let's revisit the idea of a supermassive black hole growing in its host galaxy -- feeding nice and slowly from, say, gas at the centre of the galaxy -- <i>adiabatically</i>.  \n",
    "\n",
    "We'll run through the details later, but for now, let's set up our model of the host galaxy.  To keep things simple (maybe too simple), let's use the Plummer Sphere, which has a potential given by\n",
    "$$\n",
    "\\Phi(r) = - \\frac{GM}{a} \\frac{1}{\\sqrt{1 + r^2/a^2}}\n",
    "$$\n",
    "and a density by\n",
    "$$\n",
    "\\rho(r) = \\frac{3}{4\\pi} \\frac{M}{a^3} \\frac{1}{(1 + r^2/a^2)^{5/2}},\n",
    "$$\n",
    "where $M$ is the total mass of the system and $a$ is a characteristic scale radius.  Finally, we need the mass distribution function (DF)$f(\\mathbf{x}, \\mathbf{v})$ for this model -- that is, the mass of the system in the small volume $d^3 \\mathbf{x}$ centered on $\\mathbf{x}$ and having velocities in the range $d^3 \\mathbf{v}$ centered on $\\mathbf{v}$ is given by $f(\\mathbf{x}, \\mathbf{v})\\, d^3\\mathbf{x} d^3\\mathbf{v}$.  Now, for a system that is spherically symmetric, it turns out we can write the DF in terms of energy $E$ and angular momentum $J$ only (see Binney and Tremaine section 4.4), and for the Plummer model the DF is\n",
    "$$\n",
    "f(E, J) = \\frac{24 \\sqrt{2}}{7 \\pi^3} \\frac{a^2}{G^5 M^4} (-E)^{7/2}.\n",
    "$$\n",
    "\n",
    "It turns out that everything you need to know about the system is contained in the DF.  For example, you can calculate the denisty from it:\n",
    "$$\n",
    "\\rho(r) = 4 \\pi \\int_{\\Phi(r)}^{\\Phi(\\infty)} dE \\int_0^{J_\\text{max}} \\frac{J\\, dJ}{r^2 v_r} \\, f(E),\n",
    "$$\n",
    "where \n",
    "$$\n",
    "J_\\text{max} = \\sqrt{2r^2 (E - \\Phi)}\n",
    "$$\n",
    "and \n",
    "$$\n",
    "v_r = \\sqrt{2 (E - \\Phi) - J^2 / r^2},\n",
    "$$\n",
    "as you'd expect for a system that is spherically symmetric.\n",
    "\n",
    "In all that follows, we take units such that $G = M = a = 1$.  This is just to simplify things; we can always scale our system later to whatever size we like.\n",
    "\n",
    "### Density and Potential\n",
    "\n",
    "To start, let's plot the density and potential for the Plummer sphere.  Remember, this is our model for a galaxy that hosts a black hole!\n",
    "\n",
    "We'll plot the density on a log-log scale, but the for potential we'll only put the $x$-axis on a log scale (since it's negative).  Before we even do that, though, let's set up our environment and make sure it looks good."
   ]
  },
  {
   "cell_type": "code",
   "execution_count": 1,
   "metadata": {},
   "outputs": [],
   "source": [
    "%matplotlib inline\n",
    "\n",
    "import matplotlib.pyplot as plt\n",
    "from matplotlib import rc\n",
    "import numpy as np\n",
    "import scipy\n",
    "from numba import njit, vectorize, float64\n",
    "\n",
    "rc('text.latex',preamble='\\\\usepackage{libertine}\\n\\\\usepackage[libertine]{newtxmath}')\n",
    "rc('font',**{'family':'serif','serif':['Linux Libertine O']}, size=18)\n",
    "rc('text', usetex=True)\n",
    "\n",
    "# we'll need this later, and it's a little better than trapz\n",
    "@njit\n",
    "def int_simpson(f, x):\n",
    "    \"\"\"\n",
    "    Simpson rule for irregularly spaced data.\n",
    "\n",
    "        Parameters\n",
    "        ----------\n",
    "        x : list or np.array of floats\n",
    "                Sampling points for the function values\n",
    "        f : list or np.array of floats\n",
    "                Function values at the sampling points\n",
    "\n",
    "        Returns\n",
    "        -------\n",
    "        float : approximation for the integral\n",
    "    \"\"\"\n",
    "    N = len(x) - 1\n",
    "    h = np.diff(x)\n",
    "   \n",
    "    result = 0.0\n",
    "    for i in range(1, N, 2):\n",
    "        if h[i] != 0.0:\n",
    "            hph = h[i] + h[i - 1]\n",
    "            result += f[i] * ( h[i]**3 + h[i - 1]**3 + 3. * h[i] * h[i - 1] * hph ) / ( 6 * h[i] * h[i - 1] )\n",
    "            result += f[i - 1] * ( 2. * h[i - 1]**3 - h[i]**3 + 3. * h[i] * h[i - 1]**2) / ( 6 * h[i - 1] * hph)\n",
    "            result += f[i + 1] * ( 2. * h[i]**3 - h[i - 1]**3 + 3. * h[i - 1] * h[i]**2) / ( 6 * h[i] * hph )\n",
    "\n",
    "    if (N + 1) % 2 == 0:\n",
    "        if h[N] != 0.0:\n",
    "            result += f[N] * ( 2 * h[N - 1]**2 + 3. * h[N - 2] * h[N - 1]) / ( 6 * ( h[N - 2] + h[N - 1] ) )\n",
    "            result += f[N - 1] * ( h[N - 1]**2 + 3*h[N - 1]* h[N - 2] ) / ( 6 * h[N - 2] )\n",
    "            result -= f[N - 2] * h[N - 1]**3 / ( 6 * h[N - 2] * ( h[N - 2] + h[N - 1] ) )\n",
    "    return result"
   ]
  },
  {
   "cell_type": "markdown",
   "metadata": {},
   "source": [
    "Now the plots.  We'll define functions for the density and potential since they might be useful later."
   ]
  },
  {
   "cell_type": "code",
   "execution_count": 78,
   "metadata": {},
   "outputs": [],
   "source": [
    "# remember M = a = 1!\n",
    "def density(r):\n",
    "    return 3 / 4 / np.pi * np.power(1 + r**2, -5/2)\n",
    "\n",
    "def potential(r):\n",
    "    return -np.power(1 + r**2, -1/2)\n",
    "\n",
    "@vectorize([float64(float64, float64)])\n",
    "def distribution_function(E, J):\n",
    "    return 24 * np.sqrt(2) / 7 / np.pi**3 * np.power(-E, 7/2)"
   ]
  },
  {
   "cell_type": "code",
   "execution_count": 9,
   "metadata": {},
   "outputs": [
    {
     "data": {
      "image/png": "[encoded data removed]",
      "text/plain": [
       "<Figure size 432x432 with 2 Axes>"
      ]
     },
     "metadata": {
      "needs_background": "light"
     },
     "output_type": "display_data"
    }
   ],
   "source": [
    "ri = np.logspace(-2.0, 2.0, 100)\n",
    "rhoi = density(ri)\n",
    "phii = potential(ri)\n",
    "\n",
    "fig = plt.figure(figsize=(6, 6))\n",
    "ax = fig.add_subplot(2,1,1)\n",
    "ax.set_xlabel(\"r\")\n",
    "ax.set_ylabel(r\"$\\rho(r)$\")\n",
    "ax.loglog(ri, rhoi)\n",
    "\n",
    "ax = fig.add_subplot(2,1,2)\n",
    "ax.set_xlabel(r\"$r$\")\n",
    "ax.set_ylabel(r\"$\\Phi(r)$\")\n",
    "ax.semilogx(ri, phii)\n",
    "\n",
    "plt.savefig(\"fig_density_potential.pdf\", bbox_inches=\"tight\")\n"
   ]
  },
  {
   "cell_type": "markdown",
   "metadata": {},
   "source": [
    "### Velocity Moments\n",
    "\n",
    "We can also calculate the average radial velocity (and any other velocity moment) from the DF:\n",
    "$$\n",
    "\\langle v_r^m v_t^n \\rangle = \\frac{4\\pi}{\\rho} \\int_{\\Phi(r)}^{\\Phi(\\infty)} dE \\int_0^{J_\\text{max}} \\frac{J\\, dJ}{r^2 v_r} \\, f(E) \\, v_r^m v_t^n.\n",
    "$$\n",
    "For the Plummer model, we get\n",
    "$$\n",
    "\\langle v_r^2 \\rangle = \\frac{1}{6} \\frac{1}{ (1 + r^2)^{1/2}},\n",
    "$$\n",
    "and\n",
    "$$\n",
    "\\langle v_t^2 \\rangle = \\frac{1}{3} \\frac{1}{ (1 + r^2)^{1/2}}.\n",
    "$$\n",
    "Notice that these expressions are pretty similar -- the tangential velocity is twice the radial.  That means that the so-called *anisotropy parameter* \n",
    "$$\n",
    "\\beta = 1 - \\frac{\\langle v_t^2 \\rangle}{2\\langle v_r^2 \\rangle},\n",
    "$$\n",
    "which measures the amount of, well, anisotropy in the system, is zero.  That makes sense, since the Plummer sphere is in fact isotropic in velocity."
   ]
  },
  {
   "cell_type": "code",
   "execution_count": 10,
   "metadata": {},
   "outputs": [],
   "source": [
    "def average_radial_velocity_squared(r):\n",
    "    return 1.0/6.0 * np.power(1 + r**2, -1/2)\n",
    "\n",
    "def average_tangential_velocity_squared(r):\n",
    "    return 1.0/3.0 * np.power(1 + r**2, -1/2)"
   ]
  },
  {
   "cell_type": "code",
   "execution_count": 11,
   "metadata": {},
   "outputs": [
    {
     "data": {
      "image/png": "[encoded data removed]",
      "text/plain": [
       "<Figure size 432x288 with 1 Axes>"
      ]
     },
     "metadata": {
      "needs_background": "light"
     },
     "output_type": "display_data"
    }
   ],
   "source": [
    "vr2 = average_radial_velocity_squared(ri)\n",
    "vt2 = average_tangential_velocity_squared(ri)\n",
    "\n",
    "fig = plt.figure(figsize=(6, 4))\n",
    "ax = fig.add_subplot(1,1,1)\n",
    "ax.set_xlabel(r\"$r$\")\n",
    "ax.set_ylabel(r\"$\\langle v^2 \\rangle (r)$\")\n",
    "ax.semilogx(ri, vr2, label=r\"$\\langle v_r^2 \\rangle$\")\n",
    "ax.semilogx(ri, vt2, label=r\"$\\langle v_t^2 \\rangle$\")\n",
    "ax.legend()\n",
    "\n",
    "plt.savefig(\"fig_vr_vt.pdf\", bbox_inches=\"tight\")"
   ]
  },
  {
   "cell_type": "markdown",
   "metadata": {},
   "source": [
    "## 2. Calculations on a Grid\n",
    "\n",
    "The algorithm to grow a black hole will require us to calculate all quantities on a series of grids.  For example, the radial grid is our main one -- we'll have it go from $r_0 = r_\\text{min}$ to $r_{N-1} = r_\\text{max}$ in $N$ equal steps in log spacing, just like above.  But we'll have $r_\\text{min}$ and $r_\\text{max}$ be a little smaller and bigger to get more accuracy.\n",
    "\n",
    "However, we also need to calculate the energy $E$ and angular momentum $J$ in a grid, too.  For a given radial grid, the energy will be \n",
    "$$\n",
    "E_i = \\Phi(r_i);\n",
    "$$\n",
    "that is, it will take on values of the gravitational potential energy.  The angular momentum, for each value of $E_i$ and radius $r_j$, varies from $J_0 = 0$ to $J_{N_J -1} = J_\\text{max}(r, E)$.  Notice that I'm using $N_J$ grid points for angular momentum (there's no reason for it to be the same as the energy or radial points, and we'll save some computational time if we make it smaller). "
   ]
  },
  {
   "cell_type": "code",
   "execution_count": 53,
   "metadata": {},
   "outputs": [],
   "source": [
    "N = 801\n",
    "Nj = 801\n",
    "\n",
    "# radial grid\n",
    "rmin = -4.0\n",
    "rmax = 4.0\n",
    "r_grid = np.logspace(rmin, rmax, N)\n",
    "phi_grid = potential(r_grid)\n",
    "rho_grid = density(r_grid)\n",
    "\n",
    "# energy grid\n",
    "E_grid = phi_grid\n",
    "\n",
    "# df on the energy and angular momentum grids\n",
    "f_grid = np.zeros((N, Nj))\n",
    "for i in range(N):\n",
    "    for j in range(Nj):\n",
    "        f_grid[i, j] = distribution_function(E_grid[i], 0)"
   ]
  },
  {
   "cell_type": "markdown",
   "metadata": {},
   "source": [
    "As a test calculation, let's try evaluating the density $\\rho(r)$ directly from the distribution function. Recall that the integral is\n",
    "$$\n",
    "\\rho(r) = 4 \\pi \\int_{\\Phi(r)}^{\\Phi(\\infty)} dE \\int_0^{J_\\text{max}} \\frac{J\\, dJ}{r^2 v_r} \\, f(E, J).\n",
    "$$\n",
    "\n",
    "Let's try calculating this on the grid. Here's the steps:\n",
    "\n",
    "1. Loop over the radii in our grid (that's the i loop) so we can integrate the energy integral for each value of r[i]\n",
    "\n",
    "2. Loop over energies next -- that's the j loop.  We'll do the angular momentum integral for each value of E[j], so we first need $J_\\text{max}$. \n",
    "\n",
    "3. Then we calculate $v_r$ (see above), which we write as\n",
    "   $$\n",
    "   v_r = \\frac{1}{r} \\sqrt{J_\\text{max}^2 - J^2}.\n",
    "   $$\n",
    "   This happens in a loop over angular momentum (the k loop).\n",
    "   \n",
    "4. Then the integrand for the angular momentum integral, which is \n",
    "   $$\n",
    "   g(r, E, J) = \\frac{J}{r^2 v_r} f(E, J).\n",
    "   $$\n",
    "\n",
    "5. Next, we calculate the energy integrand, which is just\n",
    "    $$ \n",
    "    h(r, E) = \\int g(E, J) \\, dJ,\n",
    "    $$\n",
    "    where the integral is taken over all values in the array for $g(E)$.\n",
    "\n",
    "6. Finally, the density is\n",
    "    $$\n",
    "    \\rho(r) = 4 \\pi \\int h(r, E), dE.\n",
    "    $$\n",
    "\n",
    "Here's the code:"
   ]
  },
  {
   "cell_type": "code",
   "execution_count": 66,
   "metadata": {},
   "outputs": [
    {
     "data": {
      "image/png": "[encoded data removed]",
      "text/plain": [
       "<Figure size 432x288 with 1 Axes>"
      ]
     },
     "metadata": {
      "needs_background": "light"
     },
     "output_type": "display_data"
    }
   ],
   "source": [
    "@njit\n",
    "def calc_density(r, phi, f):\n",
    "    \"\"\"\n",
    "    Calculate the density of the system on a grid based on the potential and \n",
    "    distribution function.\n",
    "    \"\"\"\n",
    "    \n",
    "    N = f.shape[0]\n",
    "    Nj = f.shape[1]\n",
    "    \n",
    "    E = phi\n",
    "    \n",
    "    rho = np.zeros(N)\n",
    "    \n",
    "    # loop over radius\n",
    "    for i in range(N):\n",
    "        \n",
    "        # placeholder for energy integral\n",
    "        h = np.zeros(N)\n",
    "        \n",
    "        # loop over energy\n",
    "        for j in range(N):\n",
    "            \n",
    "            jmax2 = 2 * r[i]**2 * (E[j] - phi[i])\n",
    "            if jmax2 > 0:\n",
    "                jmax = np.sqrt(jmax2)\n",
    "            else:\n",
    "                jmax = 0\n",
    "            \n",
    "            J = np.linspace(0, jmax, Nj)\n",
    "            \n",
    "            g = np.zeros(Nj)\n",
    "            for k in range(Nj):\n",
    "                vr = 1.0 / r[i] * np.sqrt(jmax**2 - J[k]**2)\n",
    "                if vr > 0:\n",
    "                    g[k] = J[k] / r[i] / r[i] / vr * f[j, k]\n",
    "                else:\n",
    "                    g[k] = 0.0\n",
    "                    \n",
    "            # do the angular momentum integral\n",
    "            h[j] = int_simpson(g, J)#np.trapz(g, J)\n",
    "        \n",
    "        # then the energy integral\n",
    "        rho[i] = 4.0 * np.pi * int_simpson(h, E)\n",
    "    \n",
    "    return rho\n",
    "\n",
    "rho_grid_check = calc_density(r_grid, phi_grid, f_grid)\n",
    "\n",
    "fig = plt.figure(figsize=(6, 4))\n",
    "ax = fig.add_subplot(1,1,1)\n",
    "plt.loglog(r_grid, rho_grid)\n",
    "plt.loglog(r_grid, rho_grid_check, \"--\")\n",
    "ax.set_xlabel(r\"$r$\")\n",
    "ax.set_ylabel(r\"$\\rho(r)$\")\n",
    "\n",
    "plt.savefig(\"fig_density_grid.pdf\", bbox_inches=\"tight\")"
   ]
  },
  {
   "cell_type": "markdown",
   "metadata": {},
   "source": [
    "That's not too bad -- we're off a bit at the tail end, since the grid is fixed and we lose accuracy as the number of points where $\\sqrt{E - \\Phi}$ is real gets smaller."
   ]
  },
  {
   "cell_type": "markdown",
   "metadata": {},
   "source": [
    "### The Potential\n",
    "\n",
    "While we're calculating quantities on a grid, let's try the potential of the system, which we can compute from the density (see Binney and Tremaine, p. 36):\n",
    "$$\n",
    "\\Phi(r) = -4 \\pi G \\left[ \\frac{1}{r} \\int_0^r \\rho(r') r'^2 dr' + \\int_r^\\infty \\rho(r') r' dr'  \\right].\n",
    "$$\n",
    "\n",
    "This is simpler than the density, since we just need one loop over the radius.  We'll also include the possibility of a central point mass -- that's the black hole we'll eventually want to grow."
   ]
  },
  {
   "cell_type": "code",
   "execution_count": 67,
   "metadata": {},
   "outputs": [
    {
     "data": {
      "image/png": "[encoded data removed]",
      "text/plain": [
       "<Figure size 432x288 with 1 Axes>"
      ]
     },
     "metadata": {
      "needs_background": "light"
     },
     "output_type": "display_data"
    }
   ],
   "source": [
    "@njit\n",
    "def calc_potential(r, rho, mass):\n",
    "    \"\"\"\n",
    "    Calculate the density of the system on a grid based on the potential and \n",
    "    distribution function.\n",
    "    \"\"\"\n",
    "    \n",
    "    N = len(r)\n",
    "    \n",
    "    rho_r = rho * r\n",
    "    rho_r2 = rho * r * r\n",
    "    \n",
    "    phi = np.zeros(N)\n",
    "    for i in range(N):\n",
    "        g1 = int_simpson(rho_r2[0:i], r[0:i])\n",
    "        g2 = int_simpson(rho_r[i:N-1], r[i:N-1])\n",
    "        \n",
    "        phi[i] = -4.0 * np.pi * (g1 / r[i] + g2) - mass / r[i]\n",
    "\n",
    "    return phi\n",
    "\n",
    "fig = plt.figure(figsize=(6, 4))\n",
    "ax = fig.add_subplot(1,1,1)\n",
    "phi_grid_check = calc_potential(r_grid, rho_grid, 0)\n",
    "plt.semilogx(r_grid, phi_grid)\n",
    "plt.semilogx(r_grid, phi_grid_check, \"--\")\n",
    "ax.set_xlabel(r\"$r$\")\n",
    "ax.set_ylabel(r\"$\\Phi(r)$\")\n",
    "\n",
    "plt.savefig(\"fig_potential_grid.pdf\", bbox_inches=\"tight\")    "
   ]
  },
  {
   "cell_type": "markdown",
   "metadata": {},
   "source": [
    "### The Radial Action\n",
    "\n",
    "Now for a tricky one -- the radial action, defined as\n",
    "$$\n",
    "I_r = 2 \\int_{r_-}^{r_+} v_r \\, dr,\n",
    "$$\n",
    "where $r_-$ and $r_+$ are the turning points of the orbit -- where $v_r$ goes to zero."
   ]
  },
  {
   "cell_type": "code",
   "execution_count": 68,
   "metadata": {},
   "outputs": [],
   "source": [
    "@njit\n",
    "def calc_radial_action(r, phi):\n",
    "    \"\"\"\n",
    "    Calculate the radial action of the system on a grid.\n",
    "    \"\"\"   \n",
    "    \n",
    "    E = phi\n",
    "    vr = np.zeros(N)\n",
    "    Ir = np.zeros((N, Nj))\n",
    "        \n",
    "    # energy loop\n",
    "    for j in range(N):\n",
    "        \n",
    "        # first find the largest value of Jmax with this energy by looping\n",
    "        # over all radii\n",
    "        jmax_max = 0.0\n",
    "        for i in range(N):\n",
    "            jmax2 = 2 * r[i]**2 * (E[j] - phi[i])\n",
    "            if jmax2 > jmax_max**2:\n",
    "                jmax_max = np.sqrt(jmax2)\n",
    "            \n",
    "        # now set the angular momentum to go from 0 to jmax_max\n",
    "        J = np.linspace(0, jmax_max, Nj)\n",
    "        \n",
    "        # angular momentum loop\n",
    "        for k in range(Nj):\n",
    "            \n",
    "            # radius loop to perform integral\n",
    "            for i in range(N):\n",
    "                                    \n",
    "                vr2 = 2 * (E[j] - phi[i]) - J[k]**2 / r[i]**2\n",
    "                if vr2 > 0:\n",
    "                    vr[i] = np.sqrt(vr2)\n",
    "                else:\n",
    "                    vr[i] = 0\n",
    "            Ir[j, k] = 2 * int_simpson(vr, r)\n",
    "    \n",
    "    return Ir\n",
    "\n",
    "ir_grid = calc_radial_action(r_grid, phi_grid)\n",
    "\n"
   ]
  },
  {
   "cell_type": "code",
   "execution_count": 70,
   "metadata": {},
   "outputs": [
    {
     "data": {
      "image/png": "[encoded data removed]",
      "text/plain": [
       "<Figure size 432x288 with 1 Axes>"
      ]
     },
     "metadata": {
      "needs_background": "light"
     },
     "output_type": "display_data"
    }
   ],
   "source": [
    "fig = plt.figure(figsize=(6, 4))\n",
    "ax = fig.add_subplot(1,1,1)\n",
    "plt.semilogy(E_grid, (ir_grid[:, 0]))\n",
    "plt.semilogy(E_grid, (ir_grid[:, 100]))\n",
    "plt.semilogy(E_grid, (ir_grid[:, 200]))\n",
    "plt.semilogy(E_grid, (ir_grid[:, 300]))\n",
    "plt.semilogy(E_grid, (ir_grid[:, 400]))\n",
    "ax.set_xlabel(r\"$E$\")\n",
    "ax.set_ylabel(r\"$I_r(E, J)$\")\n",
    "ax.set_ylim(1e-3, 1e3)\n",
    "\n",
    "plt.savefig(\"fig_radial_action_grid.pdf\", bbox_inches=\"tight\")"
   ]
  },
  {
   "cell_type": "markdown",
   "metadata": {},
   "source": [
    "### The Velocity Moments\n",
    "\n",
    "Finally, we'll need to calculate the velocity moments of the system.  Recall from above that they were given by\n",
    "$$\n",
    "\\langle v_r^m v_t^n \\rangle = \\frac{4\\pi}{\\rho} \\int_{\\Phi(r)}^{\\Phi(\\infty)} dE \\int_0^{J_\\text{max}} \\frac{J\\, dJ}{r^2 v_r} \\, f(E) \\, v_r^m v_t^n.\n",
    "$$\n",
    "We have $v_r$ above, and the tangential velocity is simply\n",
    "$$\n",
    "v_t = \\frac{J}{r}.\n",
    "$$"
   ]
  },
  {
   "cell_type": "code",
   "execution_count": 74,
   "metadata": {},
   "outputs": [],
   "source": [
    "@njit\n",
    "def calc_velocity_moment(r, rho, phi, f, m, n):\n",
    "    \"\"\"\n",
    "    Calculate the velocity moment <v_r^m v_t^n> of the system on a grid.\n",
    "    \"\"\"\n",
    "    \n",
    "    N = f.shape[0]\n",
    "    Nj = f.shape[1]\n",
    "    \n",
    "    E = phi\n",
    "    vel = np.zeros(N)\n",
    "    \n",
    "    # loop over radius\n",
    "    for i in range(N):\n",
    "        \n",
    "        # placeholder for energy integral\n",
    "        h = np.zeros(N)\n",
    "        \n",
    "        # loop over energy\n",
    "        for j in range(N):\n",
    "            \n",
    "            jmax2 = 2 * r[i]**2 * (E[j] - phi[i])\n",
    "            if jmax2 > 0:\n",
    "                jmax = np.sqrt(jmax2)\n",
    "            else:\n",
    "                jmax = 0\n",
    "            \n",
    "            J = np.linspace(0, jmax, Nj)\n",
    "            \n",
    "            g = np.zeros(Nj)\n",
    "            for k in range(Nj):\n",
    "                vr = 1.0 / r[i] * np.sqrt(jmax**2 - J[k]**2)\n",
    "                vt = J[k] / r[i]\n",
    "                if vr > 0:\n",
    "                    g[k] = J[k] / r[i] / r[i] / vr * f[j, k] * np.power(vr, m) * np.power(vt, n)\n",
    "                else:\n",
    "                    g[k] = 0.0\n",
    "\n",
    "            \n",
    "            # do the angular momentum integral\n",
    "            h[j] = int_simpson(g, J)\n",
    "        \n",
    "        # then the energy integral\n",
    "        if rho[i] > 0.0:\n",
    "            vel[i] = 4.0 * np.pi * int_simpson(h, E) / rho[i]\n",
    "        else:\n",
    "            vel[i] = 0.0\n",
    "    \n",
    "    return vel\n",
    "\n",
    "vr2_grid = calc_velocity_moment(r_grid, rho_grid, phi_grid, f_grid, 2, 0)\n",
    "vt2_grid = calc_velocity_moment(r_grid, rho_grid, phi_grid, f_grid, 0, 2)"
   ]
  },
  {
   "cell_type": "code",
   "execution_count": 75,
   "metadata": {},
   "outputs": [
    {
     "data": {
      "image/png": "[encoded data removed]",
      "text/plain": [
       "<Figure size 432x288 with 1 Axes>"
      ]
     },
     "metadata": {
      "needs_background": "light"
     },
     "output_type": "display_data"
    }
   ],
   "source": [
    "fig = plt.figure(figsize=(6, 4))\n",
    "ax = fig.add_subplot(1,1,1)\n",
    "\n",
    "plt.semilogx(r_grid, average_radial_velocity_squared(r_grid), label=r\"$\\langle v_r^2 \\rangle$\")\n",
    "plt.semilogx(r_grid, vr2_grid, \"--\")\n",
    "\n",
    "plt.semilogx(r_grid, average_tangential_velocity_squared(r_grid), label=r\"$\\langle v_t^2 \\rangle$\")\n",
    "plt.semilogx(r_grid, vt2_grid, \"--\")\n",
    "\n",
    "ax.set_xlabel(r\"$r$\")\n",
    "ax.set_ylabel(r\"$\\langle v^2 \\rangle (r)$\")\n",
    "ax.legend()\n",
    "\n",
    "plt.savefig(\"fig_vel_moment_grid.pdf\", bbox_inches=\"tight\")"
   ]
  },
  {
   "cell_type": "markdown",
   "metadata": {},
   "source": [
    "For some reason the $\\langle v_t^2 \\rangle$ calculation is not very accurate -- presumably that integral is trickier to do on the grid.  Increasing the number of grid points does improve things, but not by very much."
   ]
  },
  {
   "cell_type": "markdown",
   "metadata": {},
   "source": [
    "## 3. Adiabatic Growth\n",
    "\n",
    "Now we can turn to the actual process of growing a black hole in our system.  The way we'll do that is by assuming that the growth is adiabatic -- that is, slow enough that the system changes only slightly as the black hole grows.  In particular, we assume that during the growth the angular momentum and the radial action are held constant.  Binney and Tremaine have more details, as does Young's original 1980 paper (and a few others since then).\n",
    "\n",
    "Here's the algorithm:\n",
    "1. Given the initial system -- in this case the Plummer sphere we've examined above -- compute the density $\\rho(r)$, potential $\\Phi(r)$, and radial action $I_r(E, J)$ for the system on the grid.\n",
    "2. Approximate the final potential $\\Phi^*(r)$ by\n",
    "$$\n",
    "\\Phi^* = \\Phi - \\frac{M_\\text{BH}}{r}\n",
    "$$\n",
    "(where I've set $G=1$ remember).\n",
    "3.  Calculate the radial action $I_r^*(E^*, J)$ for this new potential $\\Phi^*$.\n",
    "4.  Equate the radial actions $I_r^*(E^*, J)$ and $I_r(E, J)$ to find the energy $E$ that has become $E^*$.  The new distribution function will be\n",
    "$$\n",
    "f^*(E^*, J) = f(E, J).\n",
    "$$\n",
    "5. Compute the density $\\rho^*(r)$ and potential $\\phi^*(r)$ using the DF $f^*(E^*, J)$.  \n",
    "6. Go back to step 3 and repeat until the density has converged.\n",
    "\n",
    "To implement this algorithm, we need one more function -- one that interpolates the radial actions to find the new DF.  Here it is."
   ]
  },
  {
   "cell_type": "code",
   "execution_count": 79,
   "metadata": {},
   "outputs": [],
   "source": [
    "@njit\n",
    "def calc_dfstar(phi, ir, irstar):\n",
    "    \n",
    "    N = ir.shape[0]\n",
    "    Nj = ir.shape[1]\n",
    "    \n",
    "    E = phi\n",
    "    \n",
    "    fstar = np.zeros((N, Nj))\n",
    "    \n",
    "    for i in range(N):\n",
    "        for k in range(Nj):\n",
    "            a = irstar[i, k]\n",
    "            b = np.interp(a, ir[:,k], E)\n",
    "            \n",
    "            fstar[i, k] = distribution_function(b, 0)\n",
    "            \n",
    "    return fstar"
   ]
  },
  {
   "cell_type": "markdown",
   "metadata": {},
   "source": [
    "Okay, let's put this all together:"
   ]
  },
  {
   "cell_type": "code",
   "execution_count": 82,
   "metadata": {},
   "outputs": [
    {
     "name": "stdout",
     "output_type": "stream",
     "text": [
      "Calculating potential with BH mass 0.01\n",
      "Calculating radial action ...\n",
      "Calculating DF ...\n",
      "Calculating density ...\n",
      "Current delta = 1783.284217474189\n",
      "Calculating potential with BH mass 0.01\n",
      "Calculating radial action ...\n",
      "Calculating DF ...\n",
      "Calculating density ...\n",
      "Current delta = 0.6598249757930716\n",
      "Calculating potential with BH mass 0.01\n",
      "Calculating radial action ...\n",
      "Calculating DF ...\n",
      "Calculating density ...\n",
      "Current delta = 0.06935933707950426\n",
      "Calculating potential with BH mass 0.01\n",
      "Calculating radial action ...\n",
      "Calculating DF ...\n",
      "Calculating density ...\n",
      "Current delta = 0.017327523559742986\n",
      "Calculating potential with BH mass 0.01\n",
      "Calculating radial action ...\n",
      "Calculating DF ...\n",
      "Calculating density ...\n",
      "Current delta = 0.06591142109300563\n",
      "Calculating potential with BH mass 0.01\n",
      "Calculating radial action ...\n",
      "Calculating DF ...\n",
      "Calculating density ...\n",
      "Current delta = 0.004644368752224182\n",
      "Calculating potential with BH mass 0.01\n",
      "Calculating radial action ...\n",
      "Calculating DF ...\n",
      "Calculating density ...\n",
      "Current delta = 0.008636287424451439\n",
      "Calculating potential with BH mass 0.01\n",
      "Calculating radial action ...\n",
      "Calculating DF ...\n",
      "Calculating density ...\n",
      "Current delta = 0.0006223209156814846\n"
     ]
    }
   ],
   "source": [
    "# we'll start with the initial system:  r, rho, phi, Ir, and f on the grid.\n",
    "# Then grow the BH:\n",
    "\n",
    "mbh = 0.01\n",
    "\n",
    "error = 1e-3\n",
    "\n",
    "rhostar_grid = rho_grid\n",
    "delta = 1e6\n",
    "while delta > error:\n",
    "    print(\"Calculating potential with BH mass\", mbh)\n",
    "    phistar_grid = calc_potential(r_grid, rhostar_grid, mbh)\n",
    "    print(\"Calculating radial action ...\")\n",
    "    irstar_grid = calc_radial_action(r_grid, phistar_grid)\n",
    "    print(\"Calculating DF ...\")\n",
    "    fstar_grid = calc_dfstar(phi_grid, ir_grid, irstar_grid)\n",
    "    print(\"Calculating density ...\")\n",
    "    rhostar_grid_temp = calc_density(r_grid, phistar_grid, fstar_grid)\n",
    "    delta = np.max(np.abs(rhostar_grid_temp - rhostar_grid))\n",
    "    rhostar_grid = rhostar_grid_temp\n",
    "    print(f\"Current delta = {delta}\")    \n"
   ]
  },
  {
   "cell_type": "code",
   "execution_count": 89,
   "metadata": {},
   "outputs": [
    {
     "data": {
      "text/plain": [
       "(1e-13, 100)"
      ]
     },
     "execution_count": 89,
     "metadata": {},
     "output_type": "execute_result"
    },
    {
     "data": {
      "image/png": "[encoded data removed]",
      "text/plain": [
       "<Figure size 432x288 with 1 Axes>"
      ]
     },
     "metadata": {
      "needs_background": "light"
     },
     "output_type": "display_data"
    }
   ],
   "source": [
    "fig = plt.figure(figsize=(6, 4))\n",
    "ax = fig.add_subplot(1,1,1)\n",
    "ax.loglog(r_grid, rho_grid)\n",
    "ax.loglog(r_grid, rhostar_grid_temp)\n",
    "ax.set_xlim(1e-3, 300)\n",
    "ax.set_ylim(1e-13, 100)"
   ]
  },
  {
   "cell_type": "markdown",
   "metadata": {},
   "source": [
    "Okay, that's a big calculation, but we don't have to run it again unless we want another black hole mass.  Let's take a look at a few things."
   ]
  },
  {
   "cell_type": "code",
   "execution_count": 91,
   "metadata": {},
   "outputs": [],
   "source": [
    "vr2star_grid = calc_velocity_moment(r_grid, rhostar_grid, phistar_grid, fstar_grid, 2, 0)\n",
    "vt2star_grid = calc_velocity_moment(r_grid, rhostar_grid, phistar_grid, fstar_grid, 0, 2)"
   ]
  },
  {
   "cell_type": "code",
   "execution_count": 112,
   "metadata": {},
   "outputs": [
    {
     "data": {
      "image/png": "[encoded data removed]",
      "text/plain": [
       "<Figure size 576x432 with 4 Axes>"
      ]
     },
     "metadata": {
      "needs_background": "light"
     },
     "output_type": "display_data"
    }
   ],
   "source": [
    "fig = plt.figure(figsize=(8, 6))\n",
    "\n",
    "ax = fig.add_subplot(2,2,1)\n",
    "ax.semilogx(r_grid, potential(r_grid))\n",
    "ax.semilogx(r_grid, phistar_grid, \"--\")\n",
    "ax.set_xlabel(r\"$r$\")\n",
    "ax.set_ylabel(r\"$\\Phi(r)$\")\n",
    "ax.set_ylim(-4, 0.5)\n",
    "ax.set_xlim(1e-3, 200)\n",
    "\n",
    "ax = fig.add_subplot(2,2,2)\n",
    "ax.loglog(r_grid, density(r_grid))\n",
    "ax.loglog(r_grid, rhostar_grid, \"--\")\n",
    "ax.set_xlabel(r\"$r$\")\n",
    "ax.set_ylabel(r\"$\\rho(r)$\")\n",
    "ax.set_xlim(1e-3, 200)\n",
    "ax.set_ylim(1e-13, 100)\n",
    "\n",
    "ax = fig.add_subplot(2,2,3)\n",
    "ax.loglog(r_grid, average_radial_velocity_squared(r_grid))\n",
    "ax.loglog(r_grid, vr2star_grid, \"--\")\n",
    "ax.set_xlabel(r\"$r$\")\n",
    "ax.set_ylabel(r\"$\\langle v_r^2 \\rangle (r)$\")\n",
    "ax.set_xlim(1e-3, 200)\n",
    "ax.set_ylim(1e-3, 5)\n",
    "\n",
    "ax = fig.add_subplot(2,2,4)\n",
    "ax.loglog(r_grid, average_tangential_velocity_squared(r_grid))\n",
    "ax.loglog(r_grid, vt2star_grid, \"--\")\n",
    "ax.set_xlabel(r\"$r$\")\n",
    "ax.set_ylabel(r\"$\\langle v_t^2 \\rangle (r)$\")\n",
    "ax.set_xlim(1e-3, 200)\n",
    "ax.set_ylim(1e-3, 5)\n",
    "\n"
   ]
  },
  {
   "cell_type": "code",
   "execution_count": 114,
   "metadata": {},
   "outputs": [
    {
     "name": "stderr",
     "output_type": "stream",
     "text": [
      "/tmp/ipykernel_23060/4173877183.py:5: RuntimeWarning: invalid value encountered in divide\n",
      "  ax.semilogx(r_grid, 1.0 - vt2star_grid / 2.0 / vr2star_grid, \"--\")\n"
     ]
    },
    {
     "data": {
      "image/png": "[encoded data removed]",
      "text/plain": [
       "<Figure size 432x432 with 1 Axes>"
      ]
     },
     "metadata": {
      "needs_background": "light"
     },
     "output_type": "display_data"
    }
   ],
   "source": [
    "fig = plt.figure(figsize=(6, 6))\n",
    "\n",
    "ax = fig.add_subplot(2,2,1)\n",
    "ax.semilogx(r_grid, 1.0 - average_tangential_velocity_squared(r_grid) / 2.0 / average_radial_velocity_squared(r_grid))\n",
    "ax.semilogx(r_grid, 1.0 - vt2star_grid / 2.0 / vr2star_grid, \"--\")\n",
    "ax.set_xlabel(r\"$r$\")\n",
    "ax.set_ylabel(r\"$\\beta(r)$\")\n",
    "\n",
    "plt.savefig(\"fig_anisotropy.pdf\", bbox_inches=\"tight\")"
   ]
  }
 ],
 "metadata": {
  "kernelspec": {
   "display_name": "Python 3 (ipykernel)",
   "language": "python",
   "name": "python3"
  },
  "language_info": {
   "codemirror_mode": {
    "name": "ipython",
    "version": 3
   },
   "file_extension": ".py",
   "mimetype": "text/x-python",
   "name": "python",
   "nbconvert_exporter": "python",
   "pygments_lexer": "ipython3",
   "version": "3.11.3"
  }
 },
 "nbformat": 4,
 "nbformat_minor": 2
}
